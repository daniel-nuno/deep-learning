{
 "cells": [
  {
   "attachments": {},
   "cell_type": "markdown",
   "metadata": {},
   "source": [
    "<br>\n",
    "<br>\n",
    "\n",
    "![iteso](https://upload.wikimedia.org/wikipedia/en/5/5f/Western_Institute_of_Technology_and_Higher_Education_logo.png)\n",
    "\n",
    "### InstitutoTecnológico y de Estudios Superiores de Occidente ###\n",
    "### Maestría Ciencia de Datos  ###\n",
    "### Aprendizaje Profundo ###\n",
    "### Actividad 3 ###\n",
    "\n",
    "<br>\n",
    "<br>\n",
    "\n",
    "* * *\n",
    "\n",
    "Estudiante: Daniel Nuño <br>\n",
    "Profesor: Dr. Francisco Cervantes <br>\n",
    "Fecha entrega: February 12, 2023 <br>\n",
    "\n",
    "* * *\n",
    "\n",
    "<br>\n",
    "<br>"
   ]
  },
  {
   "cell_type": "raw",
   "metadata": {},
   "source": [
    "<div style=\"page-break-after: always;\"></div>"
   ]
  },
  {
   "attachments": {},
   "cell_type": "markdown",
   "metadata": {},
   "source": [
    "Creo que el uso de imagenes segmentas da una ligera ventaja ya que el fondo es negro, resalta la hoja, y la posible enfermedad. El primer paso es importar las imagenes:\n",
    "\n",
    "- recusivamente importar las imagenes de la carpeta *segmented*.\n",
    "    - primero intentar con escala de grises y despues a color.\n",
    "- cambiar el tamaño para que sea más manejable.\n",
    "    - primero intentar con el tamaño original, despues reduciendo el tamaño, después con Singular Value Decomposition para comprimir manteniendo las caracteristicas.\n",
    "- rotar la matrix 90 grados 3 veces con la intención de generar 3 veces más datos.\n",
    "- aplanarlos para tener una matrix de cuatro observaciones.\n",
    "- usar el nombre de la carpeta para obtener las clasificaciones: tipo de hoja y estado de salud.\n",
    "\n",
    "La matriz X esperada es:\n",
    "- 56,304 x 4 = 225,216 filas\n",
    "- dependiendo de la forma de importar de las imagenes X cantidad de columnas\n",
    "\n",
    "La matriz Y esperada es:\n",
    "- misma cantidad de filas que X\n",
    "- 14 columnas por la especie más 26 columnas por enfermedades (o una columna para determinar si esta sana o no) = 40 (o 15)"
   ]
  },
  {
   "cell_type": "code",
   "execution_count": 143,
   "metadata": {},
   "outputs": [],
   "source": [
    "from PIL import Image\n",
    "import numpy as np\n",
    "import os\n",
    "\n",
    "main_folder_path = 'C:/Users/nuno/Desktop/deep-learning-data/activity3/' + 'segmented/'"
   ]
  },
  {
   "cell_type": "code",
   "execution_count": 208,
   "metadata": {},
   "outputs": [],
   "source": [
    "counter = 0\n",
    "metadata_img = []\n",
    "arr = np.zeros((54306*4, 32*32*1)) #32*32*1 img size  and 4 rotations\n",
    "\n",
    "for dirpath, dirnames, filenames in os.walk(main_folder_path):\n",
    "    for filename in filenames:\n",
    "        dirs_paths_state = [os.path.join(dirpath, filename),\n",
    "                            str(os.path.basename(dirpath)).split('___')[0],\n",
    "                            str(os.path.basename(dirpath)).split('___')[1]\n",
    "                            ]\n",
    "        img = Image.open(os.path.join(dirpath, filename))\n",
    "        img = img.convert('L')\n",
    "        img = img.resize((32, 32))\n",
    "\n",
    "        for times in range(4):\n",
    "            metadata_img.append(dirs_paths_state)\n",
    "            arr[times + (counter*4)] = np.ravel(np.array(img))\n",
    "            img = img.rotate(angle=90)\n",
    "        \n",
    "        counter += 1\n",
    "\n",
    "img.close()"
   ]
  },
  {
   "cell_type": "code",
   "execution_count": 209,
   "metadata": {},
   "outputs": [
    {
     "data": {
      "text/plain": [
       "217224"
      ]
     },
     "execution_count": 209,
     "metadata": {},
     "output_type": "execute_result"
    }
   ],
   "source": [
    "len(metadata_img)"
   ]
  },
  {
   "cell_type": "code",
   "execution_count": 210,
   "metadata": {},
   "outputs": [
    {
     "data": {
      "text/plain": [
       "217224"
      ]
     },
     "execution_count": 210,
     "metadata": {},
     "output_type": "execute_result"
    }
   ],
   "source": [
    "54306*4"
   ]
  },
  {
   "cell_type": "code",
   "execution_count": 191,
   "metadata": {},
   "outputs": [
    {
     "data": {
      "text/plain": [
       "0.0"
      ]
     },
     "execution_count": 191,
     "metadata": {},
     "output_type": "execute_result"
    }
   ],
   "source": [
    "arr[-1].min()"
   ]
  },
  {
   "cell_type": "code",
   "execution_count": 183,
   "metadata": {},
   "outputs": [
    {
     "data": {
      "text/plain": [
       "217220"
      ]
     },
     "execution_count": 183,
     "metadata": {},
     "output_type": "execute_result"
    }
   ],
   "source": [
    "(counter-1)*4"
   ]
  },
  {
   "cell_type": "code",
   "execution_count": 184,
   "metadata": {},
   "outputs": [
    {
     "data": {
      "text/plain": [
       "(225216, 1024)"
      ]
     },
     "execution_count": 184,
     "metadata": {},
     "output_type": "execute_result"
    }
   ],
   "source": [
    "arr.shape"
   ]
  },
  {
   "cell_type": "code",
   "execution_count": 186,
   "metadata": {},
   "outputs": [
    {
     "data": {
      "text/plain": [
       "225216"
      ]
     },
     "execution_count": 186,
     "metadata": {},
     "output_type": "execute_result"
    }
   ],
   "source": [
    "56304*4"
   ]
  }
 ],
 "metadata": {
  "kernelspec": {
   "display_name": "ml",
   "language": "python",
   "name": "python3"
  },
  "language_info": {
   "codemirror_mode": {
    "name": "ipython",
    "version": 3
   },
   "file_extension": ".py",
   "mimetype": "text/x-python",
   "name": "python",
   "nbconvert_exporter": "python",
   "pygments_lexer": "ipython3",
   "version": "3.10.4"
  },
  "orig_nbformat": 4,
  "vscode": {
   "interpreter": {
    "hash": "102a976f0e86ebaac5d44f1c7df09d65d6c14d74209e264d889fb01976a5cf38"
   }
  }
 },
 "nbformat": 4,
 "nbformat_minor": 2
}
