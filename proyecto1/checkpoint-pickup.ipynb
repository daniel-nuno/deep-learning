{
 "cells": [
  {
   "cell_type": "markdown",
   "id": "6001f22e",
   "metadata": {},
   "source": [
    "Check-point file\n",
    "\n",
    "Load training and validation list"
   ]
  },
  {
   "cell_type": "code",
   "execution_count": 308,
   "id": "87d12519",
   "metadata": {},
   "outputs": [],
   "source": [
    "import os\n",
    "import random\n",
    "import cv2 as cv\n",
    "import numpy as np\n",
    "import matplotlib.pyplot as plt\n",
    "\n",
    "import tensorflow as tf\n",
    "from tensorflow.data import AUTOTUNE\n",
    "\n",
    "from tensorflow.keras.layers import Conv2D, Flatten, Dense, Input, GlobalAveragePooling2D, Dropout\n",
    "from tensorflow.keras.applications import InceptionResNetV2\n",
    "from tensorflow.keras.models import Model\n",
    "from tensorflow.keras.utils import plot_model\n",
    "from tensorflow.keras.callbacks import EarlyStopping"
   ]
  },
  {
   "cell_type": "code",
   "execution_count": 309,
   "id": "28daf417",
   "metadata": {},
   "outputs": [],
   "source": [
    "import pickle\n",
    "\n",
    "with open('training_list.data', 'rb') as filehandle:\n",
    "    # Store the data as a binary data stream\n",
    "    training_list = pickle.load(filehandle)\n",
    "\n",
    "with open('validation_list.data', 'rb') as filehandle:\n",
    "    # Store the data as a binary data stream\n",
    "    validation_list = pickle.load(filehandle)"
   ]
  },
  {
   "cell_type": "code",
   "execution_count": 310,
   "id": "bc962389",
   "metadata": {},
   "outputs": [],
   "source": [
    "random.shuffle(training_list)\n",
    "random.shuffle(validation_list)"
   ]
  },
  {
   "cell_type": "code",
   "execution_count": 311,
   "id": "feac7bca",
   "metadata": {},
   "outputs": [],
   "source": [
    "training_list = training_list[:1000]\n",
    "validation_list = training_list[:10]"
   ]
  },
  {
   "cell_type": "markdown",
   "id": "a22f5875",
   "metadata": {},
   "source": [
    "Load dataset and error functions"
   ]
  },
  {
   "cell_type": "code",
   "execution_count": 312,
   "id": "34bd4161",
   "metadata": {},
   "outputs": [],
   "source": [
    "def load_element(element):\n",
    "    #make tensors list delimited by ,\n",
    "    element = tf.strings.split(element, sep=\",\")\n",
    "    #load image\n",
    "    img = tf.io.read_file(element[0])\n",
    "    #make sure is 3 channels\n",
    "    #the pretrained model requires [0,255] values\n",
    "    img = tf.image.decode_jpeg(img, channels=3)\n",
    "    #conver to float [0,1)\n",
    "    #img = tf.image.convert_image_dtype(img, dtype=tf.float16)\n",
    "    #resize\n",
    "    img = tf.image.resize(img, (128, 128))\n",
    "    #category\n",
    "    #category = tf.constant(element[1])\n",
    "    category =tf.strings.to_number(element[1], tf.int32)\n",
    "    #bounding box\n",
    "    x_min = tf.strings.to_number(element[2])\n",
    "    y_min = tf.strings.to_number(element[3])\n",
    "    x_max = tf.strings.to_number(element[4])\n",
    "    y_max = tf.strings.to_number(element[5])\n",
    "    bb = [x_min, y_min, x_max, y_max]\n",
    "\n",
    "    labels = {'class_output': category, 'box_output':bb}\n",
    "\n",
    "    return (img, labels)"
   ]
  },
  {
   "cell_type": "code",
   "execution_count": 313,
   "id": "cbad39a0",
   "metadata": {},
   "outputs": [],
   "source": [
    "bath_size = 32\n",
    "\n",
    "train_dataset = tf.data.Dataset.from_tensor_slices(training_list)\n",
    "train_dataset = (train_dataset\n",
    "                .shuffle(len(training_list))\n",
    "                .map(load_element, num_parallel_calls=AUTOTUNE)\n",
    "                .cache()\n",
    "                .batch(bath_size)\n",
    "                .prefetch(AUTOTUNE)\n",
    "                )\n",
    "\n",
    "val_dataset = tf.data.Dataset.from_tensor_slices(validation_list)\n",
    "val_dataset = (val_dataset\n",
    "                #.shuffle(len(validation_list))\n",
    "                .map(load_element, num_parallel_calls = AUTOTUNE)\n",
    "                .cache()\n",
    "                .batch(bath_size)\n",
    "                .prefetch(AUTOTUNE)\n",
    "                )\n"
   ]
  },
  {
   "cell_type": "code",
   "execution_count": 314,
   "id": "1f12d37f",
   "metadata": {},
   "outputs": [],
   "source": [
    "def my_GIoU(bb_true, bb_pred):\n",
    "    #make zero as tensor\n",
    "    zero = tf.convert_to_tensor(0.0, bb_true.dtype)\n",
    "    #convert them to tensor clases\n",
    "    Ax1, Ay1, Ax2, Ay2 = tf.unstack(bb_true, 4, axis=-1)\n",
    "    Bx1, By1, Bx2, By2 = tf.unstack(bb_pred, 4, axis=-1)\n",
    "\n",
    "    #for the bounding box predicted make sure Bx2 > Bx1 y By2 > By1\n",
    "    bx1 = tf.math.minimum(Bx1, Bx2)\n",
    "    by1 = tf.math.minimum(By1, By2)\n",
    "    bx2 = tf.math.maximum(Bx1, Bx2)\n",
    "    by2 = tf.math.maximum(By1, By2)\n",
    "\n",
    "    #calculate area of true bounding box\n",
    "    A_area = (Ax2 - Ax1)*(Ay2 - Ay1)\n",
    "    #calculate area of predicted bounding box\n",
    "    B_area = (bx2 - bx1)*(by2 - by1)\n",
    "    \n",
    "    #calculate intersection over true and pred\n",
    "    #find the box overlaps both boxes\n",
    "    #each inter calculates the smallest stride\n",
    "    x_inter_1 = tf.math.maximum(bx1, Ax1)\n",
    "    y_inter_1 = tf.math.maximum(by1, Ay1)\n",
    "    x_inter_2 = tf.math.minimum(bx2, Ax2)\n",
    "    y_inter_2 = tf.math.minimum(by2, Ay2)\n",
    "    #get width\n",
    "    w_inter = tf.maximum(zero, x_inter_1 - x_inter_2)\n",
    "    #get height\n",
    "    h_inter = tf.maximum(zero, y_inter_1 - y_inter_2)\n",
    "    #intersection\n",
    "    I = w_inter * h_inter\n",
    "    #area over union\n",
    "    area_union = (B_area + A_area) - I\n",
    "    iou = tf.math.divide_no_nan(I, area_union)\n",
    "\n",
    "    #find the b box C smaller that surrounding/fits both A and B\n",
    "    Cx1 = tf.math.minimum(bx1, Ax1)\n",
    "    Cy1 = tf.math.minimum(by1, Ay1)\n",
    "    Cx2 = tf.math.maximum(bx2, Ax2)\n",
    "    Cy2 = tf.math.maximum(by2, Ay2)\n",
    "\n",
    "    #calculate the C area\n",
    "    C_area = (Cx2 - Cx1) * (Cy2 - Cy1)\n",
    "    #calculate giou\n",
    "    giou = iou - tf.math.divide_no_nan(C_area - area_union, C_area)\n",
    "    #calculate mean of all observations\n",
    "    m_giou = tf.reduce_mean(giou, axis=0)\n",
    "\n",
    "    return m_giou\n",
    "\n",
    "def my_GIoULoss(bb_true, bb_pred):\n",
    "    return 1.0 - my_GIoU(bb_true, bb_pred)\n",
    "\n",
    "def my_sparse_category_accurary(y_true, y_pred):\n",
    "    #y_true is expected to be integer\n",
    "    #y_pred is a numpy.ndarray with the normalized probabilities\n",
    "    acc = np.dot(1, np.not_equal(y_true, np.argmax(y_pred, axis=1)))\n",
    "    return acc\n",
    "\n",
    "def my_IoU_np(y_true, y_pred):\n",
    "    #becausse model predict returns a numpy.ndarray then convert to tensors because the function already works as tensors\n",
    "    bb_true = tf.convert_to_tensor(y_true, y_pred.dtype)\n",
    "    bb_pred = tf.convert_to_tensor(y_pred, y_pred.dtype)\n",
    "\n",
    "    #make zero as tensor\n",
    "    zero = tf.convert_to_tensor(0.0, bb_true.dtype)\n",
    "    #convert them to tensor clases\n",
    "    Ax1, Ay1, Ax2, Ay2 = tf.unstack(bb_true, 4, axis=-1)\n",
    "    Bx1, By1, Bx2, By2 = tf.unstack(bb_pred, 4, axis=-1)\n",
    "\n",
    "    #for the bounding box predicted make sure Bx2 > Bx1 y By2 > By1\n",
    "    bx1 = tf.math.minimum(Bx1, Bx2)\n",
    "    by1 = tf.math.minimum(By1, By2)\n",
    "    bx2 = tf.math.maximum(Bx1, Bx2)\n",
    "    by2 = tf.math.maximum(By1, By2)\n",
    "\n",
    "    #calculate area of true bounding box\n",
    "    A_area = (Ax2 - Ax1)*(Ay2 - Ay1)\n",
    "    #calculate area of predicted bounding box\n",
    "    B_area = (bx2 - bx1)*(by2 - by1)\n",
    "    \n",
    "    #calculate intersection over true and pred\n",
    "    #find the box overlaps both boxes\n",
    "    #each inter calculates the smallest stride\n",
    "    x_inter_1 = tf.math.maximum(bx1, Ax1)\n",
    "    y_inter_1 = tf.math.maximum(by1, Ay1)\n",
    "    x_inter_2 = tf.math.minimum(bx2, Ax2)\n",
    "    y_inter_2 = tf.math.minimum(by2, Ay2)\n",
    "    #get width\n",
    "    w_inter = tf.maximum(zero, x_inter_2 - x_inter_2)\n",
    "    #get height\n",
    "    h_inter = tf.maximum(zero, y_inter_2 - y_inter_1)\n",
    "    #intersection\n",
    "    I = w_inter * h_inter\n",
    "    #area over union\n",
    "    area_union = (B_area + A_area) - I\n",
    "    iou = tf.math.divide_no_nan(I, area_union)\n",
    "\n",
    "    area_union = (B_area + A_area) - I\n",
    "    iou = tf.math.divide_no_nan(I, area_union)\n",
    "    Cx1 = tf.math.minimum(bx1, Ax1)\n",
    "    Cy1 = tf.math.minimum(by1, Ay1)\n",
    "    Cx2 = tf.math.maximum(bx2, Ax2)\n",
    "    Cy2 = tf.math.maximum(by2, Ay2)\n",
    "\n",
    "    #Calcular el área del bbox C\n",
    "    C_area = (Cx2-Cx1) * (Cy2-Cy1)\n",
    "\n",
    "    giou = iou - tf.math.divide_no_nan(C_area-area_union, C_area)\n",
    "    #convert back to numpy\n",
    "    giou = giou.numpy()\n",
    "    #check if is over 50% then 0 otherwise 1\n",
    "    over_50 = np.where(giou>0.5, 0, 1)\n",
    "\n",
    "    return over_50\n",
    "\n",
    "def custom_error(y_true_cat, y_pred_cat, y_true_bb, y_pred_bb):\n",
    "    d = my_sparse_category_accurary(y_true_cat, y_pred_cat)\n",
    "    f = my_IoU_np(y_true_bb, y_pred_bb)\n",
    "    e = np.max(np.column_stack((d,f)), axis=1)\n",
    "    return d, f, e, e.mean()"
   ]
  },
  {
   "cell_type": "code",
   "execution_count": 315,
   "id": "5abd11bc",
   "metadata": {},
   "outputs": [],
   "source": [
    "# For classification we will have sparse categorical crossentropy\n",
    "# For the bouding boxes we will have GIoU\n",
    "losses = { \n",
    "    \"class_output\": tf.keras.losses.SparseCategoricalCrossentropy(),\n",
    "    \"box_output\": my_GIoULoss\n",
    "    }\n",
    "\n",
    "# For the class labels we want to know the Accuracy\n",
    "# And for the bounding boxes we need to know GIoU\n",
    "metrics = {\n",
    "    'class_output': tf.keras.metrics.SparseCategoricalAccuracy(), \n",
    "    'box_output': my_GIoU\n",
    "    }\n",
    "\n",
    "stop = EarlyStopping(monitor = \"val_loss\", min_delta = 0.001, patience = 40, \n",
    "                    restore_best_weights = True\n",
    "                     )"
   ]
  },
  {
   "cell_type": "code",
   "execution_count": 316,
   "id": "97c8c5ea",
   "metadata": {},
   "outputs": [],
   "source": [
    "reconstructed_model = tf.keras.models.load_model('model.keras', custom_objects={'my_GIoULoss':my_GIoULoss, 'my_GIoU':my_GIoU})"
   ]
  },
  {
   "cell_type": "markdown",
   "id": "2fa44b5f",
   "metadata": {},
   "source": [
    "Train"
   ]
  },
  {
   "cell_type": "code",
   "execution_count": 317,
   "id": "87e588b7",
   "metadata": {},
   "outputs": [
    {
     "name": "stdout",
     "output_type": "stream",
     "text": [
      "Epoch 1/10\n",
      "32/32 [==============================] - 53s 1s/step - loss: 1.6923 - class_output_loss: 1.2588 - box_output_loss: 0.4334 - class_output_sparse_categorical_accuracy: 0.6720 - box_output_my_GIoU: 0.5702 - val_loss: 0.7739 - val_class_output_loss: 0.3053 - val_box_output_loss: 0.4687 - val_class_output_sparse_categorical_accuracy: 1.0000 - val_box_output_my_GIoU: 0.5313\n",
      "Epoch 2/10\n",
      "32/32 [==============================] - 42s 1s/step - loss: 1.2651 - class_output_loss: 0.8377 - box_output_loss: 0.4273 - class_output_sparse_categorical_accuracy: 0.7710 - box_output_my_GIoU: 0.5767 - val_loss: 0.6191 - val_class_output_loss: 0.1650 - val_box_output_loss: 0.4542 - val_class_output_sparse_categorical_accuracy: 1.0000 - val_box_output_my_GIoU: 0.5458\n",
      "Epoch 3/10\n",
      "32/32 [==============================] - 34s 1s/step - loss: 1.0825 - class_output_loss: 0.6608 - box_output_loss: 0.4217 - class_output_sparse_categorical_accuracy: 0.8180 - box_output_my_GIoU: 0.5832 - val_loss: 0.5365 - val_class_output_loss: 0.0999 - val_box_output_loss: 0.4366 - val_class_output_sparse_categorical_accuracy: 1.0000 - val_box_output_my_GIoU: 0.5634\n",
      "Epoch 4/10\n",
      "32/32 [==============================] - 38s 1s/step - loss: 0.8784 - class_output_loss: 0.4620 - box_output_loss: 0.4164 - class_output_sparse_categorical_accuracy: 0.8890 - box_output_my_GIoU: 0.5872 - val_loss: 0.4977 - val_class_output_loss: 0.0691 - val_box_output_loss: 0.4286 - val_class_output_sparse_categorical_accuracy: 1.0000 - val_box_output_my_GIoU: 0.5714\n",
      "Epoch 5/10\n",
      "32/32 [==============================] - 36s 1s/step - loss: 0.7663 - class_output_loss: 0.3541 - box_output_loss: 0.4122 - class_output_sparse_categorical_accuracy: 0.9270 - box_output_my_GIoU: 0.5922 - val_loss: 0.4836 - val_class_output_loss: 0.0567 - val_box_output_loss: 0.4269 - val_class_output_sparse_categorical_accuracy: 1.0000 - val_box_output_my_GIoU: 0.5731\n",
      "Epoch 6/10\n",
      "32/32 [==============================] - 49s 2s/step - loss: 0.7135 - class_output_loss: 0.3044 - box_output_loss: 0.4091 - class_output_sparse_categorical_accuracy: 0.9300 - box_output_my_GIoU: 0.5951 - val_loss: 0.4602 - val_class_output_loss: 0.0329 - val_box_output_loss: 0.4273 - val_class_output_sparse_categorical_accuracy: 1.0000 - val_box_output_my_GIoU: 0.5727\n",
      "Epoch 7/10\n",
      "32/32 [==============================] - 49s 2s/step - loss: 0.6271 - class_output_loss: 0.2219 - box_output_loss: 0.4052 - class_output_sparse_categorical_accuracy: 0.9510 - box_output_my_GIoU: 0.5996 - val_loss: 0.4451 - val_class_output_loss: 0.0281 - val_box_output_loss: 0.4169 - val_class_output_sparse_categorical_accuracy: 1.0000 - val_box_output_my_GIoU: 0.5831\n",
      "Epoch 8/10\n",
      "32/32 [==============================] - 41s 1s/step - loss: 0.6321 - class_output_loss: 0.2321 - box_output_loss: 0.4001 - class_output_sparse_categorical_accuracy: 0.9440 - box_output_my_GIoU: 0.6052 - val_loss: 0.4270 - val_class_output_loss: 0.0193 - val_box_output_loss: 0.4077 - val_class_output_sparse_categorical_accuracy: 1.0000 - val_box_output_my_GIoU: 0.5923\n",
      "Epoch 9/10\n",
      "32/32 [==============================] - 43s 1s/step - loss: 0.5713 - class_output_loss: 0.1711 - box_output_loss: 0.4002 - class_output_sparse_categorical_accuracy: 0.9610 - box_output_my_GIoU: 0.6045 - val_loss: 0.4287 - val_class_output_loss: 0.0162 - val_box_output_loss: 0.4124 - val_class_output_sparse_categorical_accuracy: 1.0000 - val_box_output_my_GIoU: 0.5876\n",
      "Epoch 10/10\n",
      "32/32 [==============================] - 43s 1s/step - loss: 0.5487 - class_output_loss: 0.1545 - box_output_loss: 0.3942 - class_output_sparse_categorical_accuracy: 0.9720 - box_output_my_GIoU: 0.6109 - val_loss: 0.4196 - val_class_output_loss: 0.0122 - val_box_output_loss: 0.4074 - val_class_output_sparse_categorical_accuracy: 1.0000 - val_box_output_my_GIoU: 0.5926\n"
     ]
    }
   ],
   "source": [
    "model_history = reconstructed_model.fit(x=train_dataset, validation_data=val_dataset, epochs=10, callbacks=stop, verbose=1)"
   ]
  },
  {
   "cell_type": "code",
   "execution_count": null,
   "id": "b2015a2c",
   "metadata": {},
   "outputs": [],
   "source": [
    "def plot(var1, var2, plot_name):\n",
    "    # Get the loss metrics from the trained model\n",
    "    c1 = model_history.history[var1]\n",
    "    c2 = model_history.history[var2]\n",
    "\n",
    "    epochs = range(len(c1))\n",
    "\n",
    "    # Plot the metrics\n",
    "    plt.plot(epochs, c1, 'b', label=var1)\n",
    "    plt.plot(epochs, c2, 'r', label=var2)\n",
    "    plt.title(str(plot_name))\n",
    "    plt.legend()"
   ]
  },
  {
   "cell_type": "code",
   "execution_count": 320,
   "id": "e59f6f37",
   "metadata": {},
   "outputs": [
    {
     "ename": "",
     "evalue": "",
     "output_type": "error",
     "traceback": [
      "\u001b[1;31mCanceled future for execute_request message before replies were done"
     ]
    },
    {
     "ename": "",
     "evalue": "",
     "output_type": "error",
     "traceback": [
      "\u001b[1;31mThe Kernel crashed while executing code in the the current cell or a previous cell. Please review the code in the cell(s) to identify a possible cause of the failure. Click <a href='https://aka.ms/vscodeJupyterKernelCrash'>here</a> for more info. View Jupyter <a href='command:jupyter.viewOutput'>log</a> for further details."
     ]
    }
   ],
   "source": [
    "plot( 'class_output_sparse_categorical_accuracy', 'val_class_output_sparse_categorical_accuracy', 'Class Output Accuracy vs Class Validation Accuracy')"
   ]
  },
  {
   "attachments": {},
   "cell_type": "markdown",
   "id": "f536a702",
   "metadata": {},
   "source": [
    "Predict"
   ]
  },
  {
   "cell_type": "code",
   "execution_count": 90,
   "id": "15b114be",
   "metadata": {},
   "outputs": [
    {
     "name": "stdout",
     "output_type": "stream",
     "text": [
      "4/4 [==============================] - 10s 855ms/step\n"
     ]
    }
   ],
   "source": [
    "predictions = reconstructed_model.predict(val_dataset)\n",
    "y_pred_cat, y_pred_bb = predictions"
   ]
  }
 ],
 "metadata": {
  "kernelspec": {
   "display_name": "Python 3 (ipykernel)",
   "language": "python",
   "name": "python3"
  },
  "language_info": {
   "codemirror_mode": {
    "name": "ipython",
    "version": 3
   },
   "file_extension": ".py",
   "mimetype": "text/x-python",
   "name": "python",
   "nbconvert_exporter": "python",
   "pygments_lexer": "ipython3",
   "version": "3.10.4"
  }
 },
 "nbformat": 4,
 "nbformat_minor": 5
}
