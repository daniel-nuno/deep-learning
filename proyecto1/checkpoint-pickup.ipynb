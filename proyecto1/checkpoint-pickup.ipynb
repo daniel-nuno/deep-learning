{
 "cells": [
  {
   "cell_type": "markdown",
   "id": "6001f22e",
   "metadata": {},
   "source": [
    "Check-point file\n",
    "\n",
    "Load training and validation list"
   ]
  },
  {
   "cell_type": "code",
   "execution_count": 1,
   "id": "87d12519",
   "metadata": {},
   "outputs": [],
   "source": [
    "import random\n",
    "import numpy as np\n",
    "import matplotlib.pyplot as plt\n",
    "\n",
    "import tensorflow as tf\n",
    "from tensorflow.data import AUTOTUNE\n",
    "\n",
    "from tensorflow.keras.layers import Conv2D, Flatten, Dense, Input, GlobalAveragePooling2D, Dropout\n",
    "from tensorflow.keras.applications import InceptionResNetV2\n",
    "from tensorflow.keras.models import Model\n",
    "from tensorflow.keras.utils import plot_model\n",
    "from tensorflow.keras.callbacks import EarlyStopping\n",
    "\n",
    "import pickle"
   ]
  },
  {
   "cell_type": "code",
   "execution_count": 19,
   "id": "f71f6e9f",
   "metadata": {},
   "outputs": [],
   "source": [
    "#import os\n",
    "#os.environ['KMP_DUPLICATE_LIB_OK']='True'"
   ]
  },
  {
   "cell_type": "code",
   "execution_count": 3,
   "id": "28daf417",
   "metadata": {},
   "outputs": [],
   "source": [
    "with open('training_list.data', 'rb') as filehandle:\n",
    "    # Store the data as a binary data stream\n",
    "    training_list = pickle.load(filehandle)\n",
    "\n",
    "with open('validation_list.data', 'rb') as filehandle:\n",
    "    # Store the data as a binary data stream\n",
    "    validation_list = pickle.load(filehandle)"
   ]
  },
  {
   "cell_type": "code",
   "execution_count": 37,
   "id": "bc962389",
   "metadata": {},
   "outputs": [],
   "source": [
    "#random.shuffle(training_list)\n",
    "#random.shuffle(validation_list)"
   ]
  },
  {
   "cell_type": "code",
   "execution_count": 22,
   "id": "feac7bca",
   "metadata": {},
   "outputs": [],
   "source": [
    "#training_list = training_list[:10000]\n",
    "#validation_list = validation_list[:50]"
   ]
  },
  {
   "cell_type": "markdown",
   "id": "a22f5875",
   "metadata": {},
   "source": [
    "Load dataset and error functions"
   ]
  },
  {
   "cell_type": "code",
   "execution_count": 4,
   "id": "34bd4161",
   "metadata": {},
   "outputs": [],
   "source": [
    "def load_element(element):\n",
    "    #make tensors list delimited by ,\n",
    "    element = tf.strings.split(element, sep=\",\")\n",
    "    #load image\n",
    "    img = tf.io.read_file(element[0])\n",
    "    #make sure is 3 channels\n",
    "    #the pretrained model requires [0,255] values\n",
    "    img = tf.image.decode_jpeg(img, channels=3)\n",
    "    #conver to float [0,1)\n",
    "    #img = tf.image.convert_image_dtype(img, dtype=tf.float16)\n",
    "    #resize\n",
    "    img = tf.image.resize(img, (128, 128))\n",
    "    #category\n",
    "    #category = tf.constant(element[1])\n",
    "    category =tf.strings.to_number(element[1], tf.int32)\n",
    "    #bounding box\n",
    "    x_min = tf.strings.to_number(element[2])\n",
    "    y_min = tf.strings.to_number(element[3])\n",
    "    x_max = tf.strings.to_number(element[4])\n",
    "    y_max = tf.strings.to_number(element[5])\n",
    "    bb = [x_min, y_min, x_max, y_max]\n",
    "\n",
    "    labels = {'class_output': category, 'box_output':bb}\n",
    "\n",
    "    return (img, labels)"
   ]
  },
  {
   "cell_type": "code",
   "execution_count": 5,
   "id": "cbad39a0",
   "metadata": {},
   "outputs": [],
   "source": [
    "bath_size = 32\n",
    "\n",
    "train_dataset = tf.data.Dataset.from_tensor_slices(training_list)\n",
    "train_dataset = (train_dataset\n",
    "                .shuffle(len(training_list))\n",
    "                .map(load_element, num_parallel_calls=AUTOTUNE)\n",
    "                .cache()\n",
    "                .batch(bath_size)\n",
    "                .prefetch(AUTOTUNE)\n",
    "                )\n",
    "\n",
    "val_dataset = tf.data.Dataset.from_tensor_slices(validation_list)\n",
    "val_dataset = (val_dataset\n",
    "                #.shuffle(len(validation_list))\n",
    "                .map(load_element, num_parallel_calls = AUTOTUNE)\n",
    "                .cache()\n",
    "                .batch(bath_size)\n",
    "                .prefetch(AUTOTUNE)\n",
    "                )\n"
   ]
  },
  {
   "cell_type": "code",
   "execution_count": 31,
   "id": "1f12d37f",
   "metadata": {},
   "outputs": [],
   "source": [
    "def my_GIoU(bb_true, bb_pred):\n",
    "    #make zero as tensor\n",
    "    zero = tf.convert_to_tensor(0.0, bb_true.dtype)\n",
    "    #convert them to tensor clases\n",
    "    Ax1, Ay1, Ax2, Ay2 = tf.unstack(bb_true, 4, axis=-1)\n",
    "    Bx1, By1, Bx2, By2 = tf.unstack(bb_pred, 4, axis=-1)\n",
    "\n",
    "    #for the bounding box predicted make sure Bx2 > Bx1 y By2 > By1\n",
    "    bx1 = tf.math.minimum(Bx1, Bx2)\n",
    "    by1 = tf.math.minimum(By1, By2)\n",
    "    bx2 = tf.math.maximum(Bx1, Bx2)\n",
    "    by2 = tf.math.maximum(By1, By2)\n",
    "\n",
    "    #calculate area of true bounding box\n",
    "    A_area = (Ax2 - Ax1)*(Ay2 - Ay1)\n",
    "    #calculate area of predicted bounding box\n",
    "    B_area = (bx2 - bx1)*(by2 - by1)\n",
    "    \n",
    "    #calculate intersection over true and pred\n",
    "    #find the box overlaps both boxes\n",
    "    #each inter calculates the smallest stride\n",
    "    x_inter_1 = tf.math.maximum(bx1, Ax1)\n",
    "    y_inter_1 = tf.math.maximum(by1, Ay1)\n",
    "    x_inter_2 = tf.math.minimum(bx2, Ax2)\n",
    "    y_inter_2 = tf.math.minimum(by2, Ay2)\n",
    "    #get width\n",
    "    w_inter = tf.maximum(zero, x_inter_2 - x_inter_1)\n",
    "    #get height\n",
    "    h_inter = tf.maximum(zero, y_inter_2 - y_inter_1)\n",
    "    #intersection\n",
    "    I = w_inter * h_inter\n",
    "    #area over union\n",
    "    area_union = (B_area + A_area) - I\n",
    "    iou = tf.math.divide_no_nan(I, area_union)\n",
    "\n",
    "    #find the b box C smaller that surrounding/fits both A and B\n",
    "    Cx1 = tf.math.minimum(bx1, Ax1)\n",
    "    Cy1 = tf.math.minimum(by1, Ay1)\n",
    "    Cx2 = tf.math.maximum(bx2, Ax2)\n",
    "    Cy2 = tf.math.maximum(by2, Ay2)\n",
    "\n",
    "    #calculate the C area\n",
    "    C_area = (Cx2 - Cx1) * (Cy2 - Cy1)\n",
    "    #calculate giou\n",
    "    giou = iou - tf.math.divide_no_nan(C_area - area_union, C_area)\n",
    "    #calculate mean of all observations\n",
    "    m_giou = tf.reduce_mean(giou, axis=0)\n",
    "\n",
    "    return m_giou\n",
    "\n",
    "def my_GIoULoss(bb_true, bb_pred):\n",
    "    return 1.0 - my_GIoU(bb_true, bb_pred)\n",
    "\n",
    "def my_sparse_category_accurary(y_true, y_pred):\n",
    "    #y_true is expected to be integer\n",
    "    #y_pred is a numpy.ndarray with the normalized probabilities\n",
    "    acc = np.dot(1, np.not_equal(y_true, np.argmax(y_pred, axis=1)))\n",
    "    return acc\n",
    "\n",
    "def my_IoU_np(y_true, y_pred):\n",
    "    #becausse model predict returns a numpy.ndarray then convert to tensors because the function already works as tensors\n",
    "    bb_true = tf.convert_to_tensor(y_true, y_pred.dtype)\n",
    "    bb_pred = tf.convert_to_tensor(y_pred, y_pred.dtype)\n",
    "\n",
    "    #make zero as tensor\n",
    "    zero = tf.convert_to_tensor(0.0, bb_true.dtype)\n",
    "    #convert them to tensor clases\n",
    "    Ax1, Ay1, Ax2, Ay2 = tf.unstack(bb_true, 4, axis=-1)\n",
    "    Bx1, By1, Bx2, By2 = tf.unstack(bb_pred, 4, axis=-1)\n",
    "\n",
    "    #for the bounding box predicted make sure Bx2 > Bx1 y By2 > By1\n",
    "    bx1 = tf.math.minimum(Bx1, Bx2)\n",
    "    by1 = tf.math.minimum(By1, By2)\n",
    "    bx2 = tf.math.maximum(Bx1, Bx2)\n",
    "    by2 = tf.math.maximum(By1, By2)\n",
    "\n",
    "    #calculate area of true bounding box\n",
    "    A_area = (Ax2 - Ax1)*(Ay2 - Ay1)\n",
    "    #calculate area of predicted bounding box\n",
    "    B_area = (bx2 - bx1)*(by2 - by1)\n",
    "    \n",
    "    #calculate intersection over true and pred\n",
    "    #find the box overlaps both boxes\n",
    "    #each inter calculates the smallest stride\n",
    "    x_inter_1 = tf.math.maximum(bx1, Ax1)\n",
    "    y_inter_1 = tf.math.maximum(by1, Ay1)\n",
    "    x_inter_2 = tf.math.minimum(bx2, Ax2)\n",
    "    y_inter_2 = tf.math.minimum(by2, Ay2)\n",
    "    #get width\n",
    "    w_inter = tf.maximum(zero, x_inter_2 - x_inter_1)\n",
    "    #get height\n",
    "    h_inter = tf.maximum(zero, y_inter_2 - y_inter_1)\n",
    "    #intersection\n",
    "    I = w_inter * h_inter\n",
    "    #area over union\n",
    "    area_union = (B_area + A_area) - I\n",
    "    iou = tf.math.divide_no_nan(I, area_union)\n",
    "\n",
    "    #find the b box C smaller that surrounding/fits both A and B\n",
    "    Cx1 = tf.math.minimum(bx1, Ax1)\n",
    "    Cy1 = tf.math.minimum(by1, Ay1)\n",
    "    Cx2 = tf.math.maximum(bx2, Ax2)\n",
    "    Cy2 = tf.math.maximum(by2, Ay2)\n",
    "\n",
    "    #calculate the C area\n",
    "    C_area = (Cx2 - Cx1) * (Cy2 - Cy1)\n",
    "    #calculate giou\n",
    "    giou = iou - tf.math.divide_no_nan(C_area - area_union, C_area)\n",
    "    #convert back to numpy\n",
    "    giou = giou.numpy()\n",
    "    #check if is over 50% then 0 otherwise 1\n",
    "    over_50 = np.where(iou>0.5, 0, 1)\n",
    "\n",
    "    return over_50\n",
    "\n",
    "def custom_error(y_true_cat, y_pred_cat, y_true_bb, y_pred_bb):\n",
    "    d = my_sparse_category_accurary(y_true_cat, y_pred_cat)\n",
    "    f = my_IoU_np(y_true_bb, y_pred_bb)\n",
    "    e = np.max(np.column_stack((d,f)), axis=1)\n",
    "    return d, f, e, e.mean()"
   ]
  },
  {
   "cell_type": "code",
   "execution_count": 7,
   "id": "5abd11bc",
   "metadata": {},
   "outputs": [],
   "source": [
    "# For classification we will have sparse categorical crossentropy\n",
    "# For the bouding boxes we will have GIoU\n",
    "losses = { \n",
    "    \"class_output\": tf.keras.losses.SparseCategoricalCrossentropy(),\n",
    "    \"box_output\": my_GIoULoss\n",
    "    }\n",
    "\n",
    "# For the class labels we want to know the Accuracy\n",
    "# And for the bounding boxes we need to know GIoU\n",
    "metrics = {\n",
    "    'class_output': tf.keras.metrics.SparseCategoricalAccuracy(), \n",
    "    'box_output': my_GIoU\n",
    "    }\n",
    "\n",
    "stop = EarlyStopping(monitor = \"val_loss\", min_delta = 0.001, patience = 40, \n",
    "                    restore_best_weights = True\n",
    "                     )"
   ]
  },
  {
   "cell_type": "code",
   "execution_count": 8,
   "id": "97c8c5ea",
   "metadata": {},
   "outputs": [],
   "source": [
    "reconstructed_model = tf.keras.models.load_model('model.keras', custom_objects={'my_GIoULoss':my_GIoULoss, 'my_GIoU':my_GIoU})"
   ]
  },
  {
   "cell_type": "markdown",
   "id": "2fa44b5f",
   "metadata": {},
   "source": [
    "Train"
   ]
  },
  {
   "cell_type": "code",
   "execution_count": 39,
   "id": "87e588b7",
   "metadata": {},
   "outputs": [
    {
     "name": "stdout",
     "output_type": "stream",
     "text": [
      "Epoch 1/2\n",
      "3125/3125 - 4762s - loss: 1.9996 - class_output_loss: 1.5558 - box_output_loss: 0.4438 - class_output_sparse_categorical_accuracy: 0.6296 - box_output_my_GIoU: 0.5562 - val_loss: 2.0735 - val_class_output_loss: 1.6243 - val_box_output_loss: 0.4492 - val_class_output_sparse_categorical_accuracy: 0.6285 - val_box_output_my_GIoU: 0.5509 - 4762s/epoch - 2s/step\n",
      "Epoch 2/2\n",
      "3125/3125 - 4147s - loss: 1.8213 - class_output_loss: 1.3800 - box_output_loss: 0.4413 - class_output_sparse_categorical_accuracy: 0.6560 - box_output_my_GIoU: 0.5587 - val_loss: 2.0704 - val_class_output_loss: 1.6218 - val_box_output_loss: 0.4486 - val_class_output_sparse_categorical_accuracy: 0.6294 - val_box_output_my_GIoU: 0.5515 - 4147s/epoch - 1s/step\n"
     ]
    }
   ],
   "source": [
    "model_history = reconstructed_model.fit(x=train_dataset, validation_data=val_dataset, epochs=2, callbacks=stop, verbose=2)"
   ]
  },
  {
   "cell_type": "code",
   "execution_count": 106,
   "id": "f3866b5a",
   "metadata": {},
   "outputs": [],
   "source": [
    "with open('history', 'wb') as file_pi:\n",
    "    pickle.dump(history, file_pi)"
   ]
  },
  {
   "cell_type": "code",
   "execution_count": 43,
   "id": "3418d9f7",
   "metadata": {
    "scrolled": true
   },
   "outputs": [
    {
     "name": "stderr",
     "output_type": "stream",
     "text": [
      "WARNING:absl:Found untraced functions such as _jit_compiled_convolution_op, _jit_compiled_convolution_op, _jit_compiled_convolution_op, _jit_compiled_convolution_op, _jit_compiled_convolution_op while saving (showing 5 of 245). These functions will not be directly callable after loading.\n"
     ]
    },
    {
     "name": "stdout",
     "output_type": "stream",
     "text": [
      "INFO:tensorflow:Assets written to: model\\assets\n"
     ]
    },
    {
     "name": "stderr",
     "output_type": "stream",
     "text": [
      "INFO:tensorflow:Assets written to: model\\assets\n"
     ]
    }
   ],
   "source": [
    "reconstructed_model.save('model')"
   ]
  },
  {
   "cell_type": "code",
   "execution_count": 41,
   "id": "be5c5a0a",
   "metadata": {},
   "outputs": [],
   "source": [
    "reconstructed_model.save('model.keras')"
   ]
  },
  {
   "cell_type": "code",
   "execution_count": 110,
   "id": "7c3a0bf7",
   "metadata": {},
   "outputs": [],
   "source": [
    "with open('history', \"rb\") as file_pi:\n",
    "    history = pickle.load(file_pi)"
   ]
  },
  {
   "cell_type": "markdown",
   "id": "d4637dd4",
   "metadata": {},
   "source": [
    "predict"
   ]
  },
  {
   "cell_type": "code",
   "execution_count": 10,
   "id": "ea0ef015",
   "metadata": {},
   "outputs": [
    {
     "name": "stdout",
     "output_type": "stream",
     "text": [
      "313/313 [==============================] - 337s 1s/step\n"
     ]
    }
   ],
   "source": [
    "predictions = reconstructed_model.predict(val_dataset)\n",
    "y_pred_cat, y_pred_bb = predictions"
   ]
  },
  {
   "cell_type": "code",
   "execution_count": 11,
   "id": "a6bfe221",
   "metadata": {},
   "outputs": [],
   "source": [
    "y_true_cat = np.array([-1])\n",
    "y_true_bb = np.array([-1, -1, -1, -1])\n",
    "for element in val_dataset.as_numpy_iterator():\n",
    "    #y_true_cat.insert(element[1]['class_output'])\n",
    "    #y_true_bb.insert(element[1]['box_output'])\n",
    "\n",
    "    y_true_cat = np.append(y_true_cat, element[1]['class_output'])\n",
    "    y_true_bb = np.append(y_true_bb, element[1]['box_output'])\n",
    "\n",
    "y_true_cat = y_true_cat[1:]\n",
    "y_true_bb = y_true_bb[4:]\n",
    "\n",
    "y_true_bb = y_true_bb.reshape((10000,4))"
   ]
  },
  {
   "cell_type": "code",
   "execution_count": 32,
   "id": "36b74122",
   "metadata": {},
   "outputs": [],
   "source": [
    "d, f, e, e_media = custom_error(y_true_cat, y_pred_cat, y_true_bb, y_pred_bb)"
   ]
  },
  {
   "cell_type": "code",
   "execution_count": 33,
   "id": "b3d13aad",
   "metadata": {},
   "outputs": [
    {
     "data": {
      "text/plain": [
       "(array([0, 1, 0, ..., 1, 1, 1]), 0.5779)"
      ]
     },
     "execution_count": 33,
     "metadata": {},
     "output_type": "execute_result"
    }
   ],
   "source": [
    "e, e_media"
   ]
  },
  {
   "cell_type": "code",
   "execution_count": 34,
   "id": "66e75a3b",
   "metadata": {},
   "outputs": [
    {
     "data": {
      "text/plain": [
       "0.42210000000000003"
      ]
     },
     "execution_count": 34,
     "metadata": {},
     "output_type": "execute_result"
    }
   ],
   "source": [
    "1-e_media"
   ]
  },
  {
   "cell_type": "code",
   "execution_count": 35,
   "id": "db2283da",
   "metadata": {},
   "outputs": [
    {
     "data": {
      "text/plain": [
       "0.3706"
      ]
     },
     "execution_count": 35,
     "metadata": {},
     "output_type": "execute_result"
    }
   ],
   "source": [
    "d.mean()"
   ]
  },
  {
   "cell_type": "code",
   "execution_count": 36,
   "id": "aed0953d",
   "metadata": {},
   "outputs": [
    {
     "data": {
      "text/plain": [
       "0.4058"
      ]
     },
     "execution_count": 36,
     "metadata": {},
     "output_type": "execute_result"
    }
   ],
   "source": [
    "f.mean()"
   ]
  },
  {
   "cell_type": "code",
   "execution_count": 29,
   "id": "3c54de3b",
   "metadata": {},
   "outputs": [
    {
     "data": {
      "text/plain": [
       "array([0, 1, 0, 0, 1, 0, 0, 1, 1, 1])"
      ]
     },
     "execution_count": 29,
     "metadata": {},
     "output_type": "execute_result"
    }
   ],
   "source": [
    "np.max(np.column_stack((e[:10], f[:10])), axis=1)"
   ]
  },
  {
   "cell_type": "code",
   "execution_count": 30,
   "id": "9e477885",
   "metadata": {},
   "outputs": [
    {
     "data": {
      "text/plain": [
       "array([0, 1, 0, 0, 1, 0, 0, 1, 1, 1])"
      ]
     },
     "execution_count": 30,
     "metadata": {},
     "output_type": "execute_result"
    }
   ],
   "source": [
    "np.max((e[:10], f[:10]), axis=0)"
   ]
  },
  {
   "cell_type": "code",
   "execution_count": 108,
   "id": "b2015a2c",
   "metadata": {},
   "outputs": [],
   "source": [
    "def plot(var1, var2, plot_name):\n",
    "    # Get the loss metrics from the trained model\n",
    "    c1 = history[var1]\n",
    "    c2 = history[var2]\n",
    "\n",
    "    epochs = range(len(c1))\n",
    "\n",
    "    # Plot the metrics\n",
    "    plt.plot(epochs, c1, 'b', label=var1)\n",
    "    plt.plot(epochs, c2, 'r', label=var2)\n",
    "    plt.title(str(plot_name))\n",
    "    plt.legend()"
   ]
  },
  {
   "cell_type": "code",
   "execution_count": null,
   "id": "b7daa3fd",
   "metadata": {},
   "outputs": [],
   "source": []
  },
  {
   "cell_type": "code",
   "execution_count": 112,
   "id": "69a62815",
   "metadata": {},
   "outputs": [
    {
     "data": {
      "image/png": "[encoded data removed]",
      "text/plain": [
       "<Figure size 640x480 with 1 Axes>"
      ]
     },
     "metadata": {},
     "output_type": "display_data"
    }
   ],
   "source": [
    "plot( 'loss', 'val_loss', 'Loss vs Validation Loss')"
   ]
  },
  {
   "cell_type": "code",
   "execution_count": 109,
   "id": "a2b3936a",
   "metadata": {},
   "outputs": [
    {
     "data": {
      "image/png": "[encoded data removed]",
      "text/plain": [
       "<Figure size 640x480 with 1 Axes>"
      ]
     },
     "metadata": {},
     "output_type": "display_data"
    }
   ],
   "source": [
    "plot( 'class_output_sparse_categorical_accuracy', 'val_class_output_sparse_categorical_accuracy', 'Class Output Accuracy vs Class Validation Accuracy')"
   ]
  },
  {
   "cell_type": "code",
   "execution_count": 111,
   "id": "28ee813e",
   "metadata": {},
   "outputs": [
    {
     "data": {
      "image/png": "[encoded data removed]",
      "text/plain": [
       "<Figure size 640x480 with 1 Axes>"
      ]
     },
     "metadata": {},
     "output_type": "display_data"
    }
   ],
   "source": [
    "plot( 'box_output_my_GIoU', 'val_class_output_sparse_categorical_accuracy', 'val_box_output_my_GIoU')"
   ]
  },
  {
   "cell_type": "code",
   "execution_count": null,
   "id": "18a8fcf9",
   "metadata": {},
   "outputs": [],
   "source": []
  }
 ],
 "metadata": {
  "kernelspec": {
   "display_name": "Python 3 (ipykernel)",
   "language": "python",
   "name": "python3"
  },
  "language_info": {
   "codemirror_mode": {
    "name": "ipython",
    "version": 3
   },
   "file_extension": ".py",
   "mimetype": "text/x-python",
   "name": "python",
   "nbconvert_exporter": "python",
   "pygments_lexer": "ipython3",
   "version": "3.10.4"
  }
 },
 "nbformat": 4,
 "nbformat_minor": 5
}
